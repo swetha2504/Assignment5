{
 "cells": [
  {
   "cell_type": "code",
   "execution_count": 7,
   "id": "a8a3945d",
   "metadata": {},
   "outputs": [],
   "source": [
    "class Student:\n",
    "\n",
    "    def setName(self,name):\n",
    "        self.__name=name\n",
    "    \n",
    "    def getName(self):\n",
    "        return self.__name\n",
    "    \n",
    "    def setRollno(self,rollno):\n",
    "        self.__rollno=rollno\n",
    "    \n",
    "    def getRollno(self):\n",
    "        return self.__rollno\n"
   ]
  },
  {
   "cell_type": "code",
   "execution_count": 8,
   "id": "4dc7d43e",
   "metadata": {},
   "outputs": [],
   "source": [
    "stud=Student()"
   ]
  },
  {
   "cell_type": "code",
   "execution_count": 14,
   "id": "7708080b",
   "metadata": {},
   "outputs": [],
   "source": [
    "name=stud.setName(\"swetha\")"
   ]
  },
  {
   "cell_type": "code",
   "execution_count": 15,
   "id": "91888bb7",
   "metadata": {},
   "outputs": [],
   "source": [
    "name=stud.getName()"
   ]
  },
  {
   "cell_type": "code",
   "execution_count": 16,
   "id": "834bda41",
   "metadata": {},
   "outputs": [
    {
     "name": "stdout",
     "output_type": "stream",
     "text": [
      "name of the student: swetha\n"
     ]
    }
   ],
   "source": [
    "print(\"name of the student:\",name)"
   ]
  },
  {
   "cell_type": "code",
   "execution_count": 17,
   "id": "999d50c4",
   "metadata": {},
   "outputs": [],
   "source": [
    "stud.setRollno(26)"
   ]
  },
  {
   "cell_type": "code",
   "execution_count": 18,
   "id": "9cecc1d1",
   "metadata": {},
   "outputs": [],
   "source": [
    "rollno= stud.getRollno()"
   ]
  },
  {
   "cell_type": "code",
   "execution_count": 19,
   "id": "bad2df8c",
   "metadata": {},
   "outputs": [
    {
     "name": "stdout",
     "output_type": "stream",
     "text": [
      "rollno : 26\n"
     ]
    }
   ],
   "source": [
    "print(\"rollno :\", rollno)"
   ]
  },
  {
   "cell_type": "code",
   "execution_count": null,
   "id": "6d1a9a31",
   "metadata": {},
   "outputs": [],
   "source": []
  }
 ],
 "metadata": {
  "kernelspec": {
   "display_name": "Python 3 (ipykernel)",
   "language": "python",
   "name": "python3"
  },
  "language_info": {
   "codemirror_mode": {
    "name": "ipython",
    "version": 3
   },
   "file_extension": ".py",
   "mimetype": "text/x-python",
   "name": "python",
   "nbconvert_exporter": "python",
   "pygments_lexer": "ipython3",
   "version": "3.10.9"
  }
 },
 "nbformat": 4,
 "nbformat_minor": 5
}
