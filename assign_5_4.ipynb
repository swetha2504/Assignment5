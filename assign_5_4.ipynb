{
 "cells": [
  {
   "cell_type": "code",
   "execution_count": 4,
   "id": "a09b68c5",
   "metadata": {},
   "outputs": [
    {
     "name": "stdout",
     "output_type": "stream",
     "text": [
      "enter the nameswathi\n",
      "swathi\n",
      "enter the value450\n",
      "450\n"
     ]
    }
   ],
   "source": [
    "class Account:\n",
    "\n",
    "    def __init__(self,name,balance=0):\n",
    "        self.name= name\n",
    "        self.balance=balance\n",
    "        \n",
    "class SavingsAccount(Account):\n",
    "\n",
    "    def __init__(self,name,balance,intersetrate=0):\n",
    "        \n",
    "        super().__init__(name,balance)\n",
    "        self.intersetrate=intersetrate\n",
    "        \n",
    "        \n",
    "name= input(\"enter the name\")\n",
    "print(name)\n",
    "balance=int(input(\"enter the value\"))\n",
    "print(balance)\n"
   ]
  },
  {
   "cell_type": "code",
   "execution_count": 5,
   "id": "57e1c6f4",
   "metadata": {},
   "outputs": [],
   "source": [
    "\n",
    "A= Account(name,balance)\n"
   ]
  },
  {
   "cell_type": "code",
   "execution_count": 6,
   "id": "e2d332c5",
   "metadata": {},
   "outputs": [
    {
     "name": "stdout",
     "output_type": "stream",
     "text": [
      "enter the Person namesweths\n",
      "enter the amount780\n",
      "enter the rate5\n",
      "sweths\n",
      "780.0\n",
      "5.0\n"
     ]
    }
   ],
   "source": [
    "title= input(\"enter the Person name\")\n",
    "balance =float(input(\"enter the amount\"))\n",
    "intersetrate=float(input(\"enter the rate\"))\n",
    "B=SavingsAccount(\"swetha\",50000,5)\n",
    "print(title);print(balance);print(intersetrate);"
   ]
  },
  {
   "cell_type": "code",
   "execution_count": null,
   "id": "f9e37b34",
   "metadata": {},
   "outputs": [],
   "source": []
  },
  {
   "cell_type": "code",
   "execution_count": null,
   "id": "175b9c46",
   "metadata": {},
   "outputs": [],
   "source": []
  }
 ],
 "metadata": {
  "kernelspec": {
   "display_name": "Python 3 (ipykernel)",
   "language": "python",
   "name": "python3"
  },
  "language_info": {
   "codemirror_mode": {
    "name": "ipython",
    "version": 3
   },
   "file_extension": ".py",
   "mimetype": "text/x-python",
   "name": "python",
   "nbconvert_exporter": "python",
   "pygments_lexer": "ipython3",
   "version": "3.10.9"
  }
 },
 "nbformat": 4,
 "nbformat_minor": 5
}
