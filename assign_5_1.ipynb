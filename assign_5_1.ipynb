{
 "cells": [
  {
   "cell_type": "code",
   "execution_count": 39,
   "id": "06e7ebef",
   "metadata": {},
   "outputs": [],
   "source": [
    "class Point:\n",
    "\n",
    "    def __init__(self,x,y,z):\n",
    "        self.x = x\n",
    "        self.y = y\n",
    "        self.z = z\n",
    "def print_detalis(self):\n",
    "         print(\"sum of the square x : {}, y:{}, z:{}\".format(self.x,self.y,self.z))\n",
    "    def sqSum(self):\n",
    "          return self.x**2+self.y**2+self.z**2\n",
    "    "
   ]
  },
  {
   "cell_type": "code",
   "execution_count": 40,
   "id": "818571b1",
   "metadata": {},
   "outputs": [],
   "source": [
    "mypo = Point(1,3,5)"
   ]
  },
  {
   "cell_type": "code",
   "execution_count": 37,
   "id": "3832a224",
   "metadata": {},
   "outputs": [
    {
     "data": {
      "text/plain": [
       "1"
      ]
     },
     "execution_count": 37,
     "metadata": {},
     "output_type": "execute_result"
    }
   ],
   "source": [
    "mypo.x"
   ]
  },
  {
   "cell_type": "code",
   "execution_count": 38,
   "id": "55bf6f34",
   "metadata": {},
   "outputs": [
    {
     "data": {
      "text/plain": [
       "35"
      ]
     },
     "execution_count": 38,
     "metadata": {},
     "output_type": "execute_result"
    }
   ],
   "source": [
    "mypo.sqSum()\n"
   ]
  },
  {
   "cell_type": "code",
   "execution_count": 41,
   "id": "849c4e2c",
   "metadata": {},
   "outputs": [
    {
     "name": "stdout",
     "output_type": "stream",
     "text": [
      "sum of the square x : 1, y:3, z:5\n"
     ]
    }
   ],
   "source": [
    "mypo.print_detalis()\n"
   ]
  },
  {
   "cell_type": "code",
   "execution_count": 51,
   "id": "6cb0eea8",
   "metadata": {},
   "outputs": [],
   "source": [
    "class Point:\n",
    "\n",
    "    def __init__(self,x,y,z):\n",
    "        self.x = x**2\n",
    "        self.y = y**2\n",
    "        self.z = z**2\n",
    "    def print_detalis(self):\n",
    "         print(\"sum of the square x : {}, y:{}, z:{}\".format(self.x,self.y,self.z))\n",
    "    def sqSum(self):\n",
    "          return self.x +self.y+self.z\n",
    "    "
   ]
  },
  {
   "cell_type": "code",
   "execution_count": 52,
   "id": "eddbe90e",
   "metadata": {},
   "outputs": [],
   "source": [
    "mypo= Point(1,3,5)"
   ]
  },
  {
   "cell_type": "code",
   "execution_count": 53,
   "id": "bd63847f",
   "metadata": {},
   "outputs": [
    {
     "name": "stdout",
     "output_type": "stream",
     "text": [
      "sum of the square x : 1, y:9, z:25\n"
     ]
    }
   ],
   "source": [
    "mypo.print_detalis()"
   ]
  },
  {
   "cell_type": "code",
   "execution_count": 54,
   "id": "7c5abb29",
   "metadata": {},
   "outputs": [
    {
     "data": {
      "text/plain": [
       "35"
      ]
     },
     "execution_count": 54,
     "metadata": {},
     "output_type": "execute_result"
    }
   ],
   "source": [
    "mypo.sqSum()"
   ]
  },
  {
   "cell_type": "code",
   "execution_count": null,
   "id": "b0772fdc",
   "metadata": {},
   "outputs": [],
   "source": []
  }
 ],
 "metadata": {
  "kernelspec": {
   "display_name": "Python 3 (ipykernel)",
   "language": "python",
   "name": "python3"
  },
  "language_info": {
   "codemirror_mode": {
    "name": "ipython",
    "version": 3
   },
   "file_extension": ".py",
   "mimetype": "text/x-python",
   "name": "python",
   "nbconvert_exporter": "python",
   "pygments_lexer": "ipython3",
   "version": "3.10.9"
  }
 },
 "nbformat": 4,
 "nbformat_minor": 5
}
