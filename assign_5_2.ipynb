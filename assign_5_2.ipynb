{
 "cells": [
  {
   "cell_type": "code",
   "execution_count": 12,
   "id": "fdb72ebe",
   "metadata": {},
   "outputs": [],
   "source": [
    "class Calculator:\n",
    "\n",
    "    def __init__(self,x,y):\n",
    "        self.x=x\n",
    "        self.y=y\n",
    "        \n",
    "    def add(self):\n",
    "        return self.x+self.y\n",
    "    def subtract(self):\n",
    "        return self.y-self.x\n",
    "\n",
    "    def multiply(self):\n",
    "        return self.x*self.y\n",
    "\n",
    "    def divide(self):\n",
    "         return self.y/self.x\n"
   ]
  },
  {
   "cell_type": "code",
   "execution_count": 13,
   "id": "54430ac3",
   "metadata": {},
   "outputs": [],
   "source": [
    "obj= Calculator(10,94)"
   ]
  },
  {
   "cell_type": "code",
   "execution_count": 14,
   "id": "b960dd81",
   "metadata": {},
   "outputs": [
    {
     "data": {
      "text/plain": [
       "104"
      ]
     },
     "execution_count": 14,
     "metadata": {},
     "output_type": "execute_result"
    }
   ],
   "source": [
    "obj.add()"
   ]
  },
  {
   "cell_type": "code",
   "execution_count": 15,
   "id": "517893e2",
   "metadata": {},
   "outputs": [
    {
     "data": {
      "text/plain": [
       "84"
      ]
     },
     "execution_count": 15,
     "metadata": {},
     "output_type": "execute_result"
    }
   ],
   "source": [
    "obj.subtract()"
   ]
  },
  {
   "cell_type": "code",
   "execution_count": 16,
   "id": "5401c012",
   "metadata": {},
   "outputs": [
    {
     "data": {
      "text/plain": [
       "940"
      ]
     },
     "execution_count": 16,
     "metadata": {},
     "output_type": "execute_result"
    }
   ],
   "source": [
    "obj.multiply()"
   ]
  },
  {
   "cell_type": "code",
   "execution_count": 17,
   "id": "b25a9142",
   "metadata": {},
   "outputs": [
    {
     "data": {
      "text/plain": [
       "9.4"
      ]
     },
     "execution_count": 17,
     "metadata": {},
     "output_type": "execute_result"
    }
   ],
   "source": [
    "obj.divide()"
   ]
  },
  {
   "cell_type": "code",
   "execution_count": null,
   "id": "4084c590",
   "metadata": {},
   "outputs": [],
   "source": []
  }
 ],
 "metadata": {
  "kernelspec": {
   "display_name": "Python 3 (ipykernel)",
   "language": "python",
   "name": "python3"
  },
  "language_info": {
   "codemirror_mode": {
    "name": "ipython",
    "version": 3
   },
   "file_extension": ".py",
   "mimetype": "text/x-python",
   "name": "python",
   "nbconvert_exporter": "python",
   "pygments_lexer": "ipython3",
   "version": "3.10.9"
  }
 },
 "nbformat": 4,
 "nbformat_minor": 5
}
